{
  "nbformat": 4,
  "nbformat_minor": 0,
  "metadata": {
    "colab": {
      "provenance": [],
      "authorship_tag": "ABX9TyPT+nE4u3UbSGy3gTPz0EKO",
      "include_colab_link": true
    },
    "kernelspec": {
      "name": "python3",
      "display_name": "Python 3"
    },
    "language_info": {
      "name": "python"
    }
  },
  "cells": [
    {
      "cell_type": "markdown",
      "metadata": {
        "id": "view-in-github",
        "colab_type": "text"
      },
      "source": [
        "<a href=\"https://colab.research.google.com/github/Ramanji409/Linked_list/blob/main/Untitled2.ipynb\" target=\"_parent\"><img src=\"https://colab.research.google.com/assets/colab-badge.svg\" alt=\"Open In Colab\"/></a>"
      ]
    },
    {
      "cell_type": "code",
      "execution_count": 1,
      "metadata": {
        "colab": {
          "base_uri": "https://localhost:8080/"
        },
        "id": "r5b4mu9EiPxG",
        "outputId": "19d7de68-1644-48ad-90a0-133730093a7b"
      },
      "outputs": [
        {
          "output_type": "stream",
          "name": "stdout",
          "text": [
            "5-->10-->15-->20-->None\n"
          ]
        },
        {
          "output_type": "execute_result",
          "data": {
            "text/plain": [
              "4"
            ]
          },
          "metadata": {},
          "execution_count": 1
        }
      ],
      "source": [
        "class Node:\n",
        "    def __init__(self,data):\n",
        "        self.data=data\n",
        "        self.next=None\n",
        "class Singly_Linked_List:\n",
        "    def __init__(self):\n",
        "        self.head=None\n",
        "    def traversal(self):\n",
        "        if self.head==None:\n",
        "            print(\"Singly Linked List Empty\")\n",
        "        else:\n",
        "            a=self.head\n",
        "            while a is not None:\n",
        "                print(a.data,end=\"-->\")\n",
        "                a=a.next\n",
        "        print('None')\n",
        "    def count_nodes(self):\n",
        "        count=0\n",
        "        a=self.head\n",
        "        while a is not None:\n",
        "            count+=1\n",
        "            a=a.next\n",
        "        return count\n",
        "    def search(self,value):\n",
        "        a=self.head\n",
        "        while a is not None:\n",
        "            if a.data==value:\n",
        "                return True\n",
        "            a=a.next\n",
        "        return False\n",
        "\n",
        "sll=Singly_Linked_List()\n",
        "n1=Node(5)\n",
        "n2=Node(10)\n",
        "n3=Node(15)\n",
        "n4=Node(20)\n",
        "\n",
        "n1.next=n2\n",
        "n2.next=n3\n",
        "n3.next=n4\n",
        "\n",
        "sll.head=n1\n",
        "sll.traversal()\n",
        "sll.count_nodes()\n"
      ]
    },
    {
      "cell_type": "code",
      "source": [
        "class Node:\n",
        "    def __init__(self,data):\n",
        "        self.data=data\n",
        "        self.next=None\n",
        "class Singly_Linked_List:\n",
        "    def __init__(self):\n",
        "        self.head=None\n",
        "    def traversal(self):\n",
        "        if self.head==None:\n",
        "            print(\"Singly Linked List Empty\")\n",
        "        else:\n",
        "            a=self.head\n",
        "            while a is not None:\n",
        "                print(a.data,end=\"-->\")\n",
        "                a=a.next\n",
        "        print('None')\n",
        "\n",
        "    def search(self,value):\n",
        "        a=self.head\n",
        "        while a is not None:\n",
        "            if a.data==value:\n",
        "                return True\n",
        "            a=a.next\n",
        "        return False\n",
        "\n",
        "sll=Singly_Linked_List()\n",
        "n1=Node(3)\n",
        "n2=Node(5)\n",
        "n3=Node(7)\n",
        "n4=Node(9)\n",
        "\n",
        "n1.next=n2\n",
        "n2.next=n3\n",
        "n3.next=n4\n",
        "\n",
        "sll.head=n1\n",
        "sll.traversal()\n",
        "sll.search(9)\n",
        "\n"
      ],
      "metadata": {
        "colab": {
          "base_uri": "https://localhost:8080/"
        },
        "id": "W5cV0tmmcLhV",
        "outputId": "af138f7f-f27e-4946-fd2f-ff131d67d933"
      },
      "execution_count": 2,
      "outputs": [
        {
          "output_type": "stream",
          "name": "stdout",
          "text": [
            "3-->5-->7-->9-->None\n"
          ]
        },
        {
          "output_type": "execute_result",
          "data": {
            "text/plain": [
              "True"
            ]
          },
          "metadata": {},
          "execution_count": 2
        }
      ]
    },
    {
      "cell_type": "code",
      "source": [
        "class Node:\n",
        "    def __init__(self,data):\n",
        "        self.data=data\n",
        "        self.next=None\n",
        "class Linked_List:\n",
        "    def __init__(self):\n",
        "        self.head=None\n",
        "    def traversal(self):\n",
        "        a=self.head\n",
        "        while a is not None:\n",
        "            print(a.data,end=\"->\")\n",
        "            a=a.next\n",
        "        print(\"None\")\n",
        "    def insert_at_begining(self,data):\n",
        "        new_node=Node(data)\n",
        "        new_node.next=self.head\n",
        "        self.head=new_node\n",
        "sll=Linked_List()\n",
        "n1=Node(3)\n",
        "n2=Node(5)\n",
        "n3=Node(7)\n",
        "n4=Node(9)\n",
        "\n",
        "n1.next=n2\n",
        "n2.next=n3\n",
        "n3.next=n4\n",
        "\n",
        "sll.head=n1\n",
        "sll.insert_at_begining(0)\n",
        "sll.traversal()\n"
      ],
      "metadata": {
        "colab": {
          "base_uri": "https://localhost:8080/"
        },
        "id": "HpGXWon2cP_E",
        "outputId": "d249096e-707b-426e-d4d8-61d39c44a03c"
      },
      "execution_count": 3,
      "outputs": [
        {
          "output_type": "stream",
          "name": "stdout",
          "text": [
            "0->3->5->7->9->None\n"
          ]
        }
      ]
    }
  ]
}