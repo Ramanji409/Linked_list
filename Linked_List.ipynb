{
  "nbformat": 4,
  "nbformat_minor": 0,
  "metadata": {
    "colab": {
      "provenance": [],
      "authorship_tag": "ABX9TyPzW6Ndj7x+R9DQ+M+lOR4t",
      "include_colab_link": true
    },
    "kernelspec": {
      "name": "python3",
      "display_name": "Python 3"
    },
    "language_info": {
      "name": "python"
    }
  },
  "cells": [
    {
      "cell_type": "markdown",
      "metadata": {
        "id": "view-in-github",
        "colab_type": "text"
      },
      "source": [
        "<a href=\"https://colab.research.google.com/github/Ramanji409/Linked_list/blob/main/Linked_List.ipynb\" target=\"_parent\"><img src=\"https://colab.research.google.com/assets/colab-badge.svg\" alt=\"Open In Colab\"/></a>"
      ]
    },
    {
      "cell_type": "code",
      "source": [
        "class Node:\n",
        "  def __init__(self,data):\n",
        "    self.data=data\n",
        "    self.next=None\n",
        "class LinkedList:\n",
        "  def __init__(self):\n",
        "    self.head=None\n",
        "\n",
        "  def count_nodes(self):\n",
        "    count=0\n",
        "    current=self.head\n",
        "    while current is not None:\n",
        "      print(current.data,end='->')\n",
        "      count+=1\n",
        "      current=current.next\n",
        "    print('None')\n",
        "    return count\n",
        "\n",
        "ll=LinkedList()\n",
        "\n",
        "n1=Node(10)\n",
        "n2=Node(20)\n",
        "n3=Node(30)\n",
        "n4=Node(40)\n",
        "\n",
        "ll.head=n1\n",
        "n1.next=n2\n",
        "n2.next=n3\n",
        "n3.next=n4\n",
        "n4.next=None\n",
        "\n",
        "print(ll.count_nodes())"
      ],
      "metadata": {
        "colab": {
          "base_uri": "https://localhost:8080/"
        },
        "id": "C_e5vI3ck_SA",
        "outputId": "58c75adf-4ce7-4f2e-fdfd-77e285f0b897"
      },
      "execution_count": 11,
      "outputs": [
        {
          "output_type": "stream",
          "name": "stdout",
          "text": [
            "10->20->30->40->None\n",
            "4\n"
          ]
        }
      ]
    }
  ]
}