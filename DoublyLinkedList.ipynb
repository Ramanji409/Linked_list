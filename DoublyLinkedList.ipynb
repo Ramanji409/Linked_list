{
  "nbformat": 4,
  "nbformat_minor": 0,
  "metadata": {
    "colab": {
      "provenance": [],
      "authorship_tag": "ABX9TyPOXBa8HHrBSrCLcnU1rmdV",
      "include_colab_link": true
    },
    "kernelspec": {
      "name": "python3",
      "display_name": "Python 3"
    },
    "language_info": {
      "name": "python"
    }
  },
  "cells": [
    {
      "cell_type": "markdown",
      "metadata": {
        "id": "view-in-github",
        "colab_type": "text"
      },
      "source": [
        "<a href=\"https://colab.research.google.com/github/Ramanji409/Linked_list/blob/main/DoublyLinkedList.ipynb\" target=\"_parent\"><img src=\"https://colab.research.google.com/assets/colab-badge.svg\" alt=\"Open In Colab\"/></a>"
      ]
    },
    {
      "cell_type": "code",
      "execution_count": 1,
      "metadata": {
        "colab": {
          "base_uri": "https://localhost:8080/"
        },
        "id": "AZCM0sTQ-IBP",
        "outputId": "5814c503-f27e-43d1-f8c9-92c61c43d60d"
      },
      "outputs": [
        {
          "output_type": "stream",
          "name": "stdout",
          "text": [
            "Forward Traversal:\n",
            "10 ↔ 20 ↔ 30 ↔ 40 ↔ None\n",
            "Backward Traversal:\n",
            "40 ↔ 30 ↔ 20 ↔ 10 ↔ None\n"
          ]
        }
      ],
      "source": [
        "class Node:\n",
        "    def __init__(self, data):\n",
        "        self.data = data\n",
        "        self.prev = None\n",
        "        self.next = None\n",
        "\n",
        "class DoublyLinkedList:\n",
        "    def __init__(self):\n",
        "        self.head = None\n",
        "\n",
        "    def append(self, data):\n",
        "        new_node = Node(data)\n",
        "        if self.head is None:\n",
        "            self.head = new_node\n",
        "            return\n",
        "        temp = self.head\n",
        "        while temp.next:\n",
        "            temp = temp.next\n",
        "        temp.next = new_node\n",
        "        new_node.prev = temp\n",
        "\n",
        "    def traverse_forward(self):\n",
        "        temp = self.head\n",
        "        print(\"Forward Traversal:\")\n",
        "        while temp:\n",
        "            print(temp.data, end=\" ↔ \")\n",
        "            temp = temp.next\n",
        "        print(\"None\")\n",
        "\n",
        "    def traverse_backward(self):\n",
        "        temp = self.head\n",
        "        # go to tail\n",
        "        while temp.next:\n",
        "            temp = temp.next\n",
        "        print(\"Backward Traversal:\")\n",
        "        while temp:\n",
        "            print(temp.data, end=\" ↔ \")\n",
        "            temp = temp.prev\n",
        "        print(\"None\")\n",
        "\n",
        "# Example usage\n",
        "dll = DoublyLinkedList()\n",
        "dll.append(10)\n",
        "dll.append(20)\n",
        "dll.append(30)\n",
        "dll.append(40)\n",
        "\n",
        "dll.traverse_forward()\n",
        "dll.traverse_backward()\n"
      ]
    }
  ]
}