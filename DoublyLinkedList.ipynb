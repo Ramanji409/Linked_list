{
  "nbformat": 4,
  "nbformat_minor": 0,
  "metadata": {
    "colab": {
      "provenance": [],
      "authorship_tag": "ABX9TyO/KBDL0bD8fe4au4tJyU2L",
      "include_colab_link": true
    },
    "kernelspec": {
      "name": "python3",
      "display_name": "Python 3"
    },
    "language_info": {
      "name": "python"
    }
  },
  "cells": [
    {
      "cell_type": "markdown",
      "metadata": {
        "id": "view-in-github",
        "colab_type": "text"
      },
      "source": [
        "<a href=\"https://colab.research.google.com/github/Ramanji409/Linked_list/blob/main/DoublyLinkedList.ipynb\" target=\"_parent\"><img src=\"https://colab.research.google.com/assets/colab-badge.svg\" alt=\"Open In Colab\"/></a>"
      ]
    },
    {
      "cell_type": "code",
      "execution_count": 1,
      "metadata": {
        "colab": {
          "base_uri": "https://localhost:8080/"
        },
        "id": "97Q8_bwYMuLc",
        "outputId": "2b646830-6a27-451e-ed05-78ff13b9fd44"
      },
      "outputs": [
        {
          "output_type": "stream",
          "name": "stdout",
          "text": [
            "1<->2<->3<->None\n"
          ]
        }
      ],
      "source": [
        "class Node:\n",
        "  def __init__(self,data):\n",
        "    self.data=data\n",
        "    self.prev=None\n",
        "    self.next=None\n",
        "class DoublyLinkedList:\n",
        "  def __init__(self):\n",
        "    self.head=None\n",
        "\n",
        "  def traverse(self):\n",
        "    a=self.head\n",
        "    while a is not None:\n",
        "      print(a.data,end='<->')\n",
        "      a=a.next\n",
        "    print('None')\n",
        "DLL=DoublyLinkedList()\n",
        "\n",
        "n1=Node(1)\n",
        "n2=Node(2)\n",
        "n3=Node(3)\n",
        "\n",
        "DLL.head=n1\n",
        "n1.next=n2\n",
        "n2.next=n3\n",
        "n3.next=None\n",
        "\n",
        "n2.prev=n1\n",
        "n3.prev=n2\n",
        "n1.prev=None\n",
        "\n",
        "DLL.traverse()"
      ]
    },
    {
      "cell_type": "code",
      "source": [
        "class Node:\n",
        "  def __init__(self,data):\n",
        "    self.data=data\n",
        "    self.prev=None\n",
        "    self.next=None\n",
        "class DoublyLinkedList:\n",
        "  def __init__(self):\n",
        "    self.head=None\n",
        "\n",
        "  def insert_at_beginning(self,data):\n",
        "    new_node=Node(data)\n",
        "    if self.head is None:\n",
        "      self.head=new_node\n",
        "    else:\n",
        "      new_node.next=self.head\n",
        "      self.head.prev=new_node\n",
        "      self.head=new_node\n",
        "  def traverse(self):\n",
        "    a=self.head\n",
        "    while a is not None:\n",
        "      print(a.data,end='<->')\n",
        "      a=a.next\n",
        "    print('None')\n",
        "DLL=DoublyLinkedList()\n",
        "\n",
        "n1=Node(20)\n",
        "n2=Node(30)\n",
        "n3=Node(40)\n",
        "\n",
        "DLL.head=n1\n",
        "n1.next=n2\n",
        "n2.next=n3\n",
        "n3.next=None\n",
        "\n",
        "n2.prev=n1\n",
        "n3.prev=n2\n",
        "n1.prev=None\n",
        "\n",
        "DLL.insert_at_beginning(10)\n",
        "DLL.traverse()"
      ],
      "metadata": {
        "colab": {
          "base_uri": "https://localhost:8080/"
        },
        "id": "5Tv9KJLZoAoT",
        "outputId": "0c6506b7-170a-4edc-a583-bd54ad7381ab"
      },
      "execution_count": 3,
      "outputs": [
        {
          "output_type": "stream",
          "name": "stdout",
          "text": [
            "10<->20<->30<->40<->None\n"
          ]
        }
      ]
    }
  ]
}