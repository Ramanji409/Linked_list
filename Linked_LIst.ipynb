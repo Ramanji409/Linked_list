{
  "nbformat": 4,
  "nbformat_minor": 0,
  "metadata": {
    "colab": {
      "provenance": [],
      "authorship_tag": "ABX9TyMR6M+wUokpWZPeiS5D26DZ",
      "include_colab_link": true
    },
    "kernelspec": {
      "name": "python3",
      "display_name": "Python 3"
    },
    "language_info": {
      "name": "python"
    }
  },
  "cells": [
    {
      "cell_type": "markdown",
      "metadata": {
        "id": "view-in-github",
        "colab_type": "text"
      },
      "source": [
        "<a href=\"https://colab.research.google.com/github/Ramanji409/Linked_list/blob/main/Linked_LIst.ipynb\" target=\"_parent\"><img src=\"https://colab.research.google.com/assets/colab-badge.svg\" alt=\"Open In Colab\"/></a>"
      ]
    },
    {
      "cell_type": "code",
      "execution_count": 2,
      "metadata": {
        "colab": {
          "base_uri": "https://localhost:8080/"
        },
        "id": "MXY-XDJYRucI",
        "outputId": "bebb3918-e2e7-42fb-d3b7-8221ecddc942"
      },
      "outputs": [
        {
          "output_type": "stream",
          "name": "stdout",
          "text": [
            "0->20->30->40->None\n"
          ]
        }
      ],
      "source": [
        "class Node:\n",
        "  def __init__(self,data):\n",
        "    self.data=data\n",
        "    self.next=next\n",
        "class LinkedList:\n",
        "  def __init__(self):\n",
        "    self.head=None\n",
        "  def update(self,old,new):\n",
        "    a=self.head\n",
        "    while a:\n",
        "      if a.data==old:\n",
        "        a.data=new\n",
        "      a=a.next\n",
        "  def traverse(self):\n",
        "    a=self.head\n",
        "    while a is not None:\n",
        "      print(a.data,end='->')\n",
        "      a=a.next\n",
        "    print('None')\n",
        "LL=LinkedList()\n",
        "n1=Node(10)\n",
        "n2=Node(20)\n",
        "n3=Node(30)\n",
        "n4=Node(40)\n",
        "\n",
        "LL.head=n1\n",
        "n1.next=n2\n",
        "n2.next=n3\n",
        "n3.next=n4\n",
        "n4.next=None\n",
        "LL.update(10,0)\n",
        "LL.traverse()"
      ]
    }
  ]
}